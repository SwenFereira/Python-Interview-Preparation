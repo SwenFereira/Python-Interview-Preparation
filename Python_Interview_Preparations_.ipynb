{
  "nbformat": 4,
  "nbformat_minor": 0,
  "metadata": {
    "colab": {
      "provenance": [],
      "authorship_tag": "ABX9TyMuwNU7i+uYEvS2stTKtLb3",
      "include_colab_link": true
    },
    "kernelspec": {
      "name": "python3",
      "display_name": "Python 3"
    },
    "language_info": {
      "name": "python"
    }
  },
  "cells": [
    {
      "cell_type": "markdown",
      "metadata": {
        "id": "view-in-github",
        "colab_type": "text"
      },
      "source": [
        "<a href=\"https://colab.research.google.com/github/SwenFereira/Python-Interview-Preparation/blob/main/Python_Interview_Preparations_.ipynb\" target=\"_parent\"><img src=\"https://colab.research.google.com/assets/colab-badge.svg\" alt=\"Open In Colab\"/></a>"
      ]
    },
    {
      "cell_type": "code",
      "execution_count": 1,
      "metadata": {
        "id": "MWPjzRUOJlp0",
        "colab": {
          "base_uri": "https://localhost:8080/"
        },
        "outputId": "60d9e159-2d58-47d8-956e-2d2d9377874d"
      },
      "outputs": [
        {
          "output_type": "stream",
          "name": "stdout",
          "text": [
            "Enter the number: 6\n",
            "The entered number is a perfect number\n"
          ]
        }
      ],
      "source": [
        "# Write a python program to check a given number is perfect or not.\n",
        "\n",
        "'''Note: A perfect number is a positive integer that is equal to the sum of its positive divisors, excluding the number itself.\n",
        "\n",
        "Lets understand it with example\n",
        "\n",
        "6 is a positive number and its divisor is 1,2,3 and 6 itself.\n",
        "\n",
        "But we should not include 6 as by the definition of perfect number.\n",
        "\n",
        "Lets add its divisor excluding itself\n",
        "\n",
        "1+2+3 = 6 which is equal to number itself.\n",
        "\n",
        "It means 6 is a Perfect Number.'''\n",
        "\n",
        "num=int(input(\"Enter the number: \"))  \n",
        "summ=0  \n",
        "for i in range(1,num):  \n",
        "    if (num%i==0):  \n",
        "        summ=summ+i  \n",
        "if(summ==num):  \n",
        "    print(\"The entered number is a perfect number\")  \n",
        "else:  \n",
        "    print(\"The entered number is not a perfect number\")  "
      ]
    },
    {
      "cell_type": "code",
      "source": [
        "# Write a Python program to check whether a String is Palindrome or not?\n",
        "\n",
        "def palindrome(string):\n",
        "    reverse=string[::-1]\n",
        "    if string==reverse:\n",
        "        print(string,'palindrome')\n",
        "    else:\n",
        "        print(string,'not palindrone')\n",
        "        \n",
        "string='nitin'\n",
        "palindrome(string)"
      ],
      "metadata": {
        "colab": {
          "base_uri": "https://localhost:8080/"
        },
        "id": "eDy5QtwSjmQJ",
        "outputId": "09a8878c-b8dd-4f64-9978-a160cc6d384d"
      },
      "execution_count": 4,
      "outputs": [
        {
          "output_type": "stream",
          "name": "stdout",
          "text": [
            "nitin palindrome\n"
          ]
        }
      ]
    },
    {
      "cell_type": "code",
      "source": [
        "# Write a python program to remove a given character from string.\n",
        "\n",
        "string = input()\n",
        "#strl=str.lower()\n",
        "character = input()\n",
        "#chl=ch.lower()\n",
        "print(string.replace(character,\" \"))"
      ],
      "metadata": {
        "colab": {
          "base_uri": "https://localhost:8080/"
        },
        "id": "wCKnBN8Vny1x",
        "outputId": "654a20f1-0075-4ad5-97f6-4090f104f169"
      },
      "execution_count": 8,
      "outputs": [
        {
          "output_type": "stream",
          "name": "stdout",
          "text": [
            "swen\n",
            "e\n",
            "sw n\n"
          ]
        }
      ]
    },
    {
      "cell_type": "code",
      "source": [
        "# Write a Python program to swap two number without using third variable.\n",
        "\n",
        "a = int(input())\n",
        "b = int(input())\n",
        "\n",
        "\n",
        "a=a-b\n",
        "b=a+b\n",
        "a=b-a\n",
        "\n",
        "print('after swaping')\n",
        "print(a)\n",
        "print(b)"
      ],
      "metadata": {
        "colab": {
          "base_uri": "https://localhost:8080/"
        },
        "id": "9ky2FrnRrHFw",
        "outputId": "ae0c6d25-3e27-490e-de2f-fdc85be01f51"
      },
      "execution_count": 10,
      "outputs": [
        {
          "output_type": "stream",
          "name": "stdout",
          "text": [
            "1\n",
            "2\n",
            "after swaping\n",
            "2\n",
            "1\n"
          ]
        }
      ]
    },
    {
      "cell_type": "code",
      "source": [],
      "metadata": {
        "id": "O89tmTBst3I0"
      },
      "execution_count": null,
      "outputs": []
    }
  ]
}